{
 "cells": [
  {
   "cell_type": "code",
   "execution_count": 27,
   "metadata": {},
   "outputs": [
    {
     "name": "stdout",
     "output_type": "stream",
     "text": [
      "Your length first letter: 5, Your first letter: Dimas\n"
     ]
    }
   ],
   "source": [
    "Name = input('Enter your name: ')\n",
    "Name = Name.split()\n",
    "FirstName = Name[0]\n",
    "LenFirstLetter = len(FirstName)\n",
    "\n",
    "print(f'Your length first letter: {LenFirstLetter}, Your first letter: {FirstName}')"
   ]
  },
  {
   "cell_type": "code",
   "execution_count": 22,
   "metadata": {},
   "outputs": [
    {
     "name": "stdout",
     "output_type": "stream",
     "text": [
      "IA ALN RI\n"
     ]
    }
   ],
   "source": [
    "Name = input('Enter your name: ')\n",
    "\n",
    "Name = Name.upper()\n",
    "\n",
    "print(Name[1::2])"
   ]
  },
  {
   "cell_type": "code",
   "execution_count": 34,
   "metadata": {},
   "outputs": [
    {
     "name": "stdout",
     "output_type": "stream",
     "text": [
      "Total: 22\n",
      "Reverse: 7654\n"
     ]
    }
   ],
   "source": [
    "import math\n",
    "\n",
    "Numb = input('Enter the four digit number: ')\n",
    "Numb_1,Numb_2,Numb_3,Numb_4 = int(Numb[0]),int(Numb[1]),int(Numb[2]),int(Numb[3])\n",
    "Total = Numb_1+Numb_2+Numb_3+Numb_4\n",
    "\n",
    "print(f'Total: {Total}')\n",
    "print(f'Reverse: {Numb[-1::-1]}')"
   ]
  },
  {
   "cell_type": "code",
   "execution_count": 20,
   "metadata": {},
   "outputs": [
    {
     "name": "stdout",
     "output_type": "stream",
     "text": [
      "slope = 2, distance = 2.236\n"
     ]
    }
   ],
   "source": [
    "import math\n",
    "\n",
    "var1 = input('Enter the coordinate of point A: ')\n",
    "var2 = input('Enter the coordinate of point B: ')\n",
    "\n",
    "x1,y1 = var1.split(',')\n",
    "x2,y2 = var2.split(',')\n",
    "x1,y1 = int(x1),int(y1)\n",
    "x2,y2 = int(x2),int(y2)\n",
    "\n",
    "slope = int((y2-y1)/(x2-x1))\n",
    "distance = round(math.sqrt((x2-x1)**2+(y2-y1)**2),3)\n",
    "\n",
    "print(f'slope = {slope}, distance = {distance}')"
   ]
  },
  {
   "cell_type": "code",
   "execution_count": 36,
   "metadata": {},
   "outputs": [
    {
     "name": "stdout",
     "output_type": "stream",
     "text": [
      "dhiwa purka\n"
     ]
    }
   ],
   "source": [
    "string = input('Enter 2 text separated by \",\":')\n",
    "string = string.split(',')\n",
    "string1, string2 = string[0].strip(),string[1].strip()\n",
    "\n",
    "string_join = ' '.join([''.join([string2[:3],string1[3:]]),''.join([string1[:3],string2[3:]])])\n",
    "\n",
    "print(string_join)"
   ]
  },
  {
   "cell_type": "code",
   "execution_count": 38,
   "metadata": {},
   "outputs": [
    {
     "name": "stdout",
     "output_type": "stream",
     "text": [
      "jPKdaA\n"
     ]
    }
   ],
   "source": [
    "string1 = input('Enter the first text: ')\n",
    "string2 = input('Enter the second text: ')\n",
    "\n",
    "string_join = string1[0]+string2[0]+string1[(len(string1)//2)]+string2[(len(string2)//2)]+string1[-1]+string2[-1]\n",
    "\n",
    "print(string_join)"
   ]
  },
  {
   "cell_type": "code",
   "execution_count": 40,
   "metadata": {},
   "outputs": [
    {
     "name": "stdout",
     "output_type": "stream",
     "text": [
      "JC0310DS\n"
     ]
    }
   ],
   "source": [
    "string1 = input('Enter the first text: ')\n",
    "string2 = input('Enter the second text: ')\n",
    "\n",
    "string_join = string1[:(len(string1)//2)]+string2[:]+string1[(len(string2)//2):]\n",
    "\n",
    "print(string_join)"
   ]
  }
 ],
 "metadata": {
  "kernelspec": {
   "display_name": "base",
   "language": "python",
   "name": "python3"
  },
  "language_info": {
   "codemirror_mode": {
    "name": "ipython",
    "version": 3
   },
   "file_extension": ".py",
   "mimetype": "text/x-python",
   "name": "python",
   "nbconvert_exporter": "python",
   "pygments_lexer": "ipython3",
   "version": "3.11.5"
  }
 },
 "nbformat": 4,
 "nbformat_minor": 2
}
