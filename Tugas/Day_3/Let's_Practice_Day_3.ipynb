{
 "cells": [
  {
   "cell_type": "code",
   "execution_count": 1,
   "metadata": {},
   "outputs": [
    {
     "name": "stdout",
     "output_type": "stream",
     "text": [
      "The word (\"bab\") appeard 3 times\n"
     ]
    }
   ],
   "source": [
    "spam_char = 'ababaababbbbcccbabcc'\n",
    "word = 'bab'\n",
    "count = 0\n",
    "\n",
    "for i in range(len(spam_char)):\n",
    "    if spam_char[i:i+3] == word:\n",
    "        count += 1\n",
    "\n",
    "print((f'The word of (\"{word}\") appeard {count} times'))"
   ]
  },
  {
   "cell_type": "code",
   "execution_count": 9,
   "metadata": {},
   "outputs": [
    {
     "name": "stdout",
     "output_type": "stream",
     "text": [
      "False\n"
     ]
    }
   ],
   "source": [
    "spam_char = input('Enter char of o and x: ')\n",
    "count_o = 0\n",
    "count_x = 0\n",
    "\n",
    "for i in range(len(spam_char)):\n",
    "    if spam_char [i] == 'o':\n",
    "        count_o += 1\n",
    "    elif spam_char [i] == 'x':\n",
    "        count_x += 1\n",
    "\n",
    "if count_o == count_x:\n",
    "    print(f'char o = {count_o} & char x = {count_x}, and it is',True)\n",
    "else:\n",
    "    print(False) "
   ]
  },
  {
   "cell_type": "code",
   "execution_count": 13,
   "metadata": {},
   "outputs": [
    {
     "name": "stdout",
     "output_type": "stream",
     "text": [
      "Not Narsistic\n"
     ]
    }
   ],
   "source": [
    "numb = input('Enter number: ')\n",
    "variable = 0\n",
    "\n",
    "for i in numb:\n",
    "    variable += int(i)**len(numb)\n",
    "if variable == int(numb):\n",
    "    print('Narsistic')\n",
    "else:\n",
    "    print('Not Narsistic')"
   ]
  },
  {
   "cell_type": "code",
   "execution_count": 14,
   "metadata": {},
   "outputs": [
    {
     "name": "stdout",
     "output_type": "stream",
     "text": [
      "1 2 Fizz 4 Buzz Fizz 7 8 Fizz Buzz 11 Fizz 13 14 FizzBuzz 16 17 Fizz 19 Buzz Fizz 22 23 Fizz Buzz 26 Fizz 28 29 FizzBuzz 31 32 Fizz 34 Buzz "
     ]
    }
   ],
   "source": [
    "upTo = int(input('Enter number: '))\n",
    "\n",
    "for i in range (1, upTo+1):\n",
    "    if i%5 == 0 and i%3 == 0:\n",
    "        print('FizzBuzz',end=\" \")\n",
    "    elif i%3 == 0:\n",
    "        print('Fizz',end=\" \")\n",
    "    elif i%5 == 0:\n",
    "        print('Buzz',end=\" \")\n",
    "    else:\n",
    "        print(i,end=\" \")"
   ]
  },
  {
   "cell_type": "code",
   "execution_count": 19,
   "metadata": {},
   "outputs": [
    {
     "name": "stdout",
     "output_type": "stream",
     "text": [
      "dog and dog fighting together\n"
     ]
    }
   ],
   "source": [
    "Text = input('Enter text: ')\n",
    "oldText = 'fox'\n",
    "newText = 'dog'\n",
    "\n",
    "if oldText in Text:\n",
    "    newText = Text.replace(oldText,newText)\n",
    "    print(newText)"
   ]
  },
  {
   "cell_type": "code",
   "execution_count": 21,
   "metadata": {},
   "outputs": [
    {
     "name": "stdout",
     "output_type": "stream",
     "text": [
      "[10, 5, 16, 8, 4, 2, 1] "
     ]
    }
   ],
   "source": [
    "numb = int(input('Enter starting number: '))\n",
    "seq = [numb]\n",
    "\n",
    "while (numb != 1):\n",
    "    if (numb%2 == 0):\n",
    "        numb = (numb//2)\n",
    "    else:\n",
    "        numb = (numb*3+1)\n",
    "    seq.append(numb)\n",
    "\n",
    "print(seq, end=\" \")"
   ]
  },
  {
   "cell_type": "code",
   "execution_count": 23,
   "metadata": {},
   "outputs": [
    {
     "name": "stdout",
     "output_type": "stream",
     "text": [
      "0, 1, 1, 2, 3, 5, 8, 13, 21, 34, 55, 89, 144, 233, 377, 610, 987, 1597, 2584, 4181, 6765, 10946, 17711, 28657, 46368, 75025, 121393, 196418, 317811, 514229, 832040, 1346269, 2178309, 3524578, 5702887, 9227465, 14930352, 24157817, 39088169, 63245986, 102334155, 165580141, 267914296, 433494437, 701408733, 1134903170, 1836311903, 2971215073, 4807526976, 7778742049, 12586269025, 20365011074, 32951280099, 53316291173, 86267571272\n"
     ]
    }
   ],
   "source": [
    "numb = int(input('Enter the n th fibonacci number that you wish: '))\n",
    "fibo_seq = [0,1]\n",
    "\n",
    "while len(fibo_seq) < numb:\n",
    "    fibo_seq.append(fibo_seq[-1]+fibo_seq[-2])\n",
    "\n",
    "print(\", \".join(map(str, fibo_seq)))"
   ]
  },
  {
   "cell_type": "code",
   "execution_count": 26,
   "metadata": {},
   "outputs": [
    {
     "name": "stdout",
     "output_type": "stream",
     "text": [
      "Key #0: QIIX QI FC XLI VSWI FYWLIW XSRMKLX\n",
      "Key #1: PHHW PH EB WKH URVH EXVKHV WRQLJKW\n",
      "Key #2: OGGV OG DA VJG TQUG DWUJGU VQPKIJV\n",
      "Key #3: NFFU NF CZ UIF SPTF CVTIFT UPOJHIU\n",
      "Key #4: MEET ME BY THE ROSE BUSHES TONIGHT\n",
      "Key #5: LDDS LD AX SGD QNRD ATRGDR SNMHFGS\n",
      "Key #6: KCCR KC ZW RFC PMQC ZSQFCQ RMLGEFR\n",
      "Key #7: JBBQ JB YV QEB OLPB YRPEBP QLKFDEQ\n",
      "Key #8: IAAP IA XU PDA NKOA XQODAO PKJECDP\n",
      "Key #9: HZZO HZ WT OCZ MJNZ WPNCZN OJIDBCO\n",
      "Key #10: GYYN GY VS NBY LIMY VOMBYM NIHCABN\n",
      "Key #11: FXXM FX UR MAX KHLX UNLAXL MHGBZAM\n",
      "Key #12: EWWL EW TQ LZW JGKW TMKZWK LGFAYZL\n",
      "Key #13: DVVK DV SP KYV IFJV SLJYVJ KFEZXYK\n",
      "Key #14: CUUJ CU RO JXU HEIU RKIXUI JEDYWXJ\n",
      "Key #15: BTTI BT QN IWT GDHT QJHWTH IDCXVWI\n",
      "Key #16: ASSH AS PM HVS FCGS PIGVSG HCBWUVH\n",
      "Key #17: ZRRG ZR OL GUR EBFR OHFURF GBAVTUG\n",
      "Key #18: YQQF YQ NK FTQ DAEQ NGETQE FAZUSTF\n",
      "Key #19: XPPE XP MJ ESP CZDP MFDSPD EZYTRSE\n",
      "Key #20: WOOD WO LI DRO BYCO LECROC DYXSQRD\n",
      "Key #21: VNNC VN KH CQN AXBN KDBQNB CXWRPQC\n",
      "Key #22: UMMB UM JG BPM ZWAM JCAPMA BWVQOPB\n",
      "Key #23: TLLA TL IF AOL YVZL IBZOLZ AVUPNOA\n",
      "Key #24: SKKZ SK HE ZNK XUYK HAYNKY ZUTOMNZ\n",
      "Key #25: RJJY RJ GD YMJ WTXJ GZXMJX YTSNLMY\n"
     ]
    }
   ],
   "source": [
    "code_hack = input('Enter the hack code: ')\n",
    "pass_code = 'ABCDEFGHIJKLMNOPQRSTUVWXYZ'\n",
    "\n",
    "for i in range(len(pass_code)):\n",
    "    code_hack_2 = ''\n",
    "    for symbol in code_hack:\n",
    "        if symbol in pass_code:\n",
    "            numb = pass_code.find(symbol)\n",
    "            numb = numb - i\n",
    "            if numb < 0:\n",
    "                numb = numb + (len(pass_code))\n",
    "            code_hack_2 = code_hack_2 + pass_code[numb]\n",
    "        else:\n",
    "            code_hack_2 = code_hack_2 + symbol\n",
    "    print(f'Key #{i}: {code_hack_2}')    "
   ]
  }
 ],
 "metadata": {
  "kernelspec": {
   "display_name": "base",
   "language": "python",
   "name": "python3"
  },
  "language_info": {
   "codemirror_mode": {
    "name": "ipython",
    "version": 3
   },
   "file_extension": ".py",
   "mimetype": "text/x-python",
   "name": "python",
   "nbconvert_exporter": "python",
   "pygments_lexer": "ipython3",
   "version": "3.11.5"
  }
 },
 "nbformat": 4,
 "nbformat_minor": 2
}
