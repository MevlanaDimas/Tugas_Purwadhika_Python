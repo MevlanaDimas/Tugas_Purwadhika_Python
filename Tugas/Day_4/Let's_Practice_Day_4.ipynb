{
 "cells": [
  {
   "cell_type": "code",
   "execution_count": 14,
   "metadata": {},
   "outputs": [
    {
     "name": "stdout",
     "output_type": "stream",
     "text": [
      "(0, 3)\n"
     ]
    }
   ],
   "source": [
    "def find_index(numb, target):\n",
    "    item_1 = 0\n",
    "    item_2 = 0\n",
    "\n",
    "    result = []\n",
    "\n",
    "    for x in range(len(numb)):\n",
    "        for y in range(len(numb)):\n",
    "            if x == y:\n",
    "                continue\n",
    "            else:\n",
    "                total = numb[x] + numb[y]\n",
    "                if total == target:\n",
    "                    item_1 = x\n",
    "                    item_2 = y\n",
    "                    result.append(item_1)\n",
    "                    result.append(item_2)\n",
    "                    break\n",
    "        if len(result) > 0:\n",
    "            break\n",
    "    \n",
    "    result = tuple(result)\n",
    "    \n",
    "    return result\n",
    "\n",
    "\n",
    "numb = [2,7,11,15]\n",
    "target = 17\n",
    "\n",
    "Index = find_index(numb,target)\n",
    "\n",
    "print(Index)\n",
    "    "
   ]
  },
  {
   "cell_type": "code",
   "execution_count": 15,
   "metadata": {},
   "outputs": [
    {
     "name": "stdout",
     "output_type": "stream",
     "text": [
      "(('a', 1), ('d', 2), ('b', 3), ('c', 5))\n"
     ]
    }
   ],
   "source": [
    "def sorting_tuple(numb):\n",
    "    numb = list(numb)\n",
    "\n",
    "    for x in range(0, len(numb)):\n",
    "        for y in range(x + 1, len(numb)):\n",
    "            if numb[x][1] >= numb[y][1]:\n",
    "                numb[x],numb[y] = numb[y],numb[x]\n",
    "    numb = tuple(numb)\n",
    "\n",
    "    return numb\n",
    "\n",
    "numb = (('a',1),('b',3),('c',5),('d',2))\n",
    "\n",
    "sort_tuple = sorting_tuple(numb)\n",
    "\n",
    "print(sort_tuple)"
   ]
  },
  {
   "cell_type": "code",
   "execution_count": 18,
   "metadata": {},
   "outputs": [
    {
     "name": "stdout",
     "output_type": "stream",
     "text": [
      "('7', '0', '8')\n"
     ]
    }
   ],
   "source": [
    "def add_list(list_1,list_2):\n",
    "    str_numb_1 = \"\"\n",
    "    str_numb_2 = \"\"\n",
    "\n",
    "    for x in range(len(list_1) - 1, - 1, - 1):\n",
    "        str_numb_1 += str(list_1[x])\n",
    "\n",
    "    for x in range(len(list_2) - 1, - 1, - 1):\n",
    "        str_numb_2 += str(list_2[x])\n",
    "\n",
    "    total = int(str_numb_1) + int(str_numb_2)\n",
    "    total = str(total)\n",
    "\n",
    "    result = []\n",
    "    for x in range(len(total) - 1, - 1, - 1):\n",
    "        result.append(total[x])\n",
    "\n",
    "    result = tuple(result)\n",
    "\n",
    "    return result\n",
    "\n",
    "list_1 = [2,4,3]\n",
    "list_2 = [5,6,4]\n",
    "\n",
    "adding_list = add_list(list_1, list_2)\n",
    "\n",
    "print(adding_list)"
   ]
  },
  {
   "cell_type": "code",
   "execution_count": 20,
   "metadata": {},
   "outputs": [
    {
     "ename": "AssertionError",
     "evalue": "",
     "output_type": "error",
     "traceback": [
      "\u001b[1;31m---------------------------------------------------------------------------\u001b[0m",
      "\u001b[1;31mAssertionError\u001b[0m                            Traceback (most recent call last)",
      "Cell \u001b[1;32mIn[20], line 14\u001b[0m\n\u001b[0;32m     11\u001b[0m list_1 \u001b[38;5;241m=\u001b[39m [\u001b[38;5;241m1\u001b[39m,\u001b[38;5;241m3\u001b[39m,\u001b[38;5;241m6\u001b[39m]\n\u001b[0;32m     12\u001b[0m list_2 \u001b[38;5;241m=\u001b[39m [\u001b[38;5;241m5\u001b[39m,\u001b[38;5;241m7\u001b[39m,\u001b[38;5;241m8\u001b[39m,\u001b[38;5;241m9\u001b[39m]\n\u001b[1;32m---> 14\u001b[0m \u001b[38;5;28;01massert\u001b[39;00m merging_list([\u001b[38;5;241m1\u001b[39m, \u001b[38;5;241m3\u001b[39m, \u001b[38;5;241m6\u001b[39m], [\u001b[38;5;241m5\u001b[39m, \u001b[38;5;241m7\u001b[39m, \u001b[38;5;241m8\u001b[39m, \u001b[38;5;241m9\u001b[39m]) \u001b[38;5;241m==\u001b[39m [\u001b[38;5;241m1\u001b[39m, \u001b[38;5;241m3\u001b[39m, \u001b[38;5;241m5\u001b[39m, \u001b[38;5;241m6\u001b[39m, \u001b[38;5;241m7\u001b[39m, \u001b[38;5;241m8\u001b[39m, \u001b[38;5;241m9\u001b[39m]\n\u001b[0;32m     15\u001b[0m \u001b[38;5;28;01massert\u001b[39;00m merging_list([\u001b[38;5;241m4\u001b[39m, \u001b[38;5;241m5\u001b[39m], [\u001b[38;5;241m1\u001b[39m, \u001b[38;5;241m2\u001b[39m, \u001b[38;5;241m3\u001b[39m]) \u001b[38;5;241m==\u001b[39m [\u001b[38;5;241m1\u001b[39m, \u001b[38;5;241m2\u001b[39m, \u001b[38;5;241m3\u001b[39m, \u001b[38;5;241m4\u001b[39m, \u001b[38;5;241m5\u001b[39m]\n\u001b[0;32m     16\u001b[0m \u001b[38;5;28;01massert\u001b[39;00m merging_list([\u001b[38;5;241m2\u001b[39m, \u001b[38;5;241m2\u001b[39m, \u001b[38;5;241m2\u001b[39m], [\u001b[38;5;241m2\u001b[39m, \u001b[38;5;241m2\u001b[39m, \u001b[38;5;241m2\u001b[39m]) \u001b[38;5;241m==\u001b[39m [\u001b[38;5;241m2\u001b[39m, \u001b[38;5;241m2\u001b[39m, \u001b[38;5;241m2\u001b[39m, \u001b[38;5;241m2\u001b[39m, \u001b[38;5;241m2\u001b[39m, \u001b[38;5;241m2\u001b[39m]\n",
      "\u001b[1;31mAssertionError\u001b[0m: "
     ]
    }
   ],
   "source": [
    "def merging_list(list_1, list_2):\n",
    "    numb = list_1 + list_2\n",
    "\n",
    "    for x in range(0,len(numb)):\n",
    "        for y in range(x + 1, len(numb)):\n",
    "            if numb[x] >= numb[y]:\n",
    "                numb[x],numb[y] = numb[x],numb[y]\n",
    "\n",
    "    return numb\n",
    "\n",
    "list_1 = [1,3,6]\n",
    "list_2 = [5,7,8,9]\n",
    "\n",
    "assert merging_list([1, 3, 6], [5, 7, 8, 9]) == [1, 3, 5, 6, 7, 8, 9]\n",
    "assert merging_list([4, 5], [1, 2, 3]) == [1, 2, 3, 4, 5]\n",
    "assert merging_list([2, 2, 2], [2, 2, 2]) == [2, 2, 2, 2, 2, 2]\n",
    "assert merging_list([], [1, 2, 3]) == [1, 2, 3]"
   ]
  },
  {
   "cell_type": "code",
   "execution_count": 23,
   "metadata": {},
   "outputs": [
    {
     "name": "stdout",
     "output_type": "stream",
     "text": [
      "sT0`eV8^nE\n"
     ]
    }
   ],
   "source": [
    "import random\n",
    "\n",
    "def gen_pass(pass_len):\n",
    "    lower_case = 'abcdefghijklmnopqrstuvwxyz'\n",
    "    upper_case = 'ABCDEFGHIJKLMNOPQRSTUVWXYZ'\n",
    "    numb = '0123456789'\n",
    "    special = '`~!@#$%^&*()_+'\n",
    "\n",
    "    comb = [0,1,2,3]\n",
    "    comb_val = 0\n",
    "\n",
    "    result = \"\"\n",
    "\n",
    "    for x in range(pass_len):\n",
    "        if comb_val == 0:\n",
    "            result += lower_case[random.randint(0,25)]\n",
    "            comb_val += 1\n",
    "        elif comb_val == 1:\n",
    "            result += upper_case[random.randint(0,25)]\n",
    "            comb_val += 1\n",
    "        elif comb_val == 2:\n",
    "            result += numb[random.randint(0,9)]\n",
    "            comb_val += 1\n",
    "        else:\n",
    "            result += special[random.randint(0,12)]\n",
    "            comb_val = 0\n",
    "\n",
    "    return result\n",
    "\n",
    "gen_password = gen_pass(10)\n",
    "\n",
    "print(gen_password)"
   ]
  },
  {
   "cell_type": "code",
   "execution_count": 24,
   "metadata": {},
   "outputs": [
    {
     "name": "stdout",
     "output_type": "stream",
     "text": [
      "[[-1, -1, 2], [-1, 0, 1], [-2, 0, 2], [-2, 1, 1], [-4, 2, 2]]\n"
     ]
    }
   ],
   "source": [
    "def sum_list(numb):\n",
    "    result = []\n",
    "    result_slice = []\n",
    "\n",
    "    for x in range(len(numb)):\n",
    "        for y in range(len(numb)):\n",
    "            for z in range(len(numb)):\n",
    "                if x == y == z:\n",
    "                    continue\n",
    "                else:\n",
    "                    total = numb[x] + numb[y] + numb[z]\n",
    "\n",
    "                    if total == 0:\n",
    "                        result_slice.append(numb[x])\n",
    "                        result_slice.append(numb[y])\n",
    "                        result_slice.append(numb[z])\n",
    "                        \n",
    "                        result_slice.sort()\n",
    "\n",
    "                        if result_slice not in result:\n",
    "                            result.append(result_slice)\n",
    "                            result_slice= []\n",
    "                        \n",
    "                        result_slice = []\n",
    "\n",
    "    return result\n",
    "\n",
    "numb = [-1, 0, 1, -2, -1, 2, -4]\n",
    "\n",
    "SumList = sum_list(numb)\n",
    "\n",
    "print(SumList)"
   ]
  }
 ],
 "metadata": {
  "kernelspec": {
   "display_name": "base",
   "language": "python",
   "name": "python3"
  },
  "language_info": {
   "codemirror_mode": {
    "name": "ipython",
    "version": 3
   },
   "file_extension": ".py",
   "mimetype": "text/x-python",
   "name": "python",
   "nbconvert_exporter": "python",
   "pygments_lexer": "ipython3",
   "version": "3.11.5"
  }
 },
 "nbformat": 4,
 "nbformat_minor": 2
}
