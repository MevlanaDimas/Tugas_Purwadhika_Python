{
 "cells": [
  {
   "cell_type": "code",
   "execution_count": 5,
   "metadata": {},
   "outputs": [
    {
     "name": "stdout",
     "output_type": "stream",
     "text": [
      "inventory: \n",
      "45 gold coin\n",
      "1 rope\n",
      "1 dagger\n",
      "1 ruby\n",
      "Item in inventroy: 48\n"
     ]
    }
   ],
   "source": [
    "def add_to_invent(invent,added_items):\n",
    "    for item in added_items:\n",
    "        if item in invent:\n",
    "            invent[item] = invent[item] + 1\n",
    "        else:\n",
    "            invent[item] = 1\n",
    "\n",
    "    print('inventory: ')\n",
    "    for key, value in invent.items():\n",
    "        print(f'{value} {key}')\n",
    "\n",
    "invent = {'gold coin': 42, 'rope': 1}\n",
    "dragon_loot = ['gold coin', 'dagger', 'gold coin', 'gold coin', 'ruby']\n",
    "\n",
    "add_to_invent(invent,dragon_loot)\n",
    "\n",
    "total_items = sum(list(invent.values()))\n",
    "\n",
    "print(f'Item in inventroy: {total_items}')"
   ]
  },
  {
   "cell_type": "code",
   "execution_count": 7,
   "metadata": {},
   "outputs": [
    {
     "name": "stdout",
     "output_type": "stream",
     "text": [
      "First non repeating charater: 1\n",
      "First repeating character: r\n"
     ]
    }
   ],
   "source": [
    "def repeat_count(string):\n",
    "    repeat = 0\n",
    "    not_repeat = 0\n",
    "\n",
    "    first_not_repeat_char = ''\n",
    "    first_repeat_char = ''\n",
    "\n",
    "    is_done_not_repeat_char = False\n",
    "    is_done_repeat_char = False\n",
    "\n",
    "    for x in range(len(string)):\n",
    "        current_char = string[x]\n",
    "        for y in range(len(string)):\n",
    "            next_char = string[y]\n",
    "\n",
    "            if x == y:\n",
    "                continue\n",
    "            else:\n",
    "                if current_char == next_char:\n",
    "                    not_repeat += 1\n",
    "\n",
    "        if not_repeat == 0 and is_done_not_repeat_char == False:\n",
    "            first_not_repeat_char = current_char\n",
    "            is_done_not_repeat_char = True\n",
    "        if is_done_not_repeat_char == True:\n",
    "            break\n",
    "\n",
    "    print(f'First non repeating charater: {first_not_repeat_char}')\n",
    "\n",
    "    for x in range(len(string)):\n",
    "        current_char = string[x]\n",
    "        for y in range(len(string)):\n",
    "            next_char = string[y]\n",
    "\n",
    "            if x == y:\n",
    "                continue\n",
    "            else:\n",
    "                if next_char == current_char:\n",
    "                    first_repeat_char = current_char\n",
    "                    repeat += 1\n",
    "                    is_done_repeat_char = True\n",
    "                if repeat > 0 and is_done_repeat_char == True:\n",
    "                    break\n",
    "\n",
    "    print(f'First repeating character: {first_repeat_char}')\n",
    "\n",
    "string = '123PurwadhikaHeroesHeroes'\n",
    "\n",
    "repeat_count(string)\n"
   ]
  },
  {
   "cell_type": "code",
   "execution_count": 8,
   "metadata": {},
   "outputs": [],
   "source": [
    "def checker(string):\n",
    "    vowel_low = ['a','i','u','e','o']\n",
    "    vowel_up = ['A','I','U','E','O']\n",
    "\n",
    "    is_vow_miss = False\n",
    "\n",
    "    for x in range(5):\n",
    "        vow_low = vowel_low[x]\n",
    "        vow_up = vowel_up[x]\n",
    "\n",
    "        is_vow_low_present = vow_low in string\n",
    "        is_vow_up_present = vow_up in string\n",
    "\n",
    "        if is_vow_low_present == False and is_vow_up_present == False:\n",
    "            is_vow_miss = True\n",
    "\n",
    "        if is_vow_miss == True:\n",
    "            return False\n",
    "        \n",
    "    return True\n",
    "\n",
    "string = 'sEEquOiaL'\n",
    "\n",
    "assert checker('sEEquOiaL') == True\n",
    "assert checker('Squ0iaL') == False\n",
    "assert checker('') == False"
   ]
  },
  {
   "cell_type": "code",
   "execution_count": 9,
   "metadata": {},
   "outputs": [
    {
     "name": "stdout",
     "output_type": "stream",
     "text": [
      "False\n",
      "True\n",
      "True\n"
     ]
    }
   ],
   "source": [
    "def heterogram_checker(string):\n",
    "    count_numb = 0\n",
    "    count_alphabet = 0\n",
    "\n",
    "    string = string.replace(' ','').lower()\n",
    "    \n",
    "    for x in range(0, len(string)):\n",
    "        char = string[x]\n",
    "\n",
    "        for y in range(x + 1, len(string)):\n",
    "            if string[y] == string [x]:\n",
    "                if char.isalpha():\n",
    "                    count_alphabet += 1\n",
    "                else:\n",
    "                    count_numb += 1\n",
    "        \n",
    "    if count_alphabet > 0:\n",
    "        return False\n",
    "    \n",
    "    return True\n",
    "\n",
    "print(heterogram_checker('purwadhika jogja'))\n",
    "print(heterogram_checker('jcds 0210'))\n",
    "print(heterogram_checker('  '))\n",
    "\n",
    "assert heterogram_checker('purwadhika jogja') == False\n",
    "assert heterogram_checker('jcds 0210') == True\n",
    "assert heterogram_checker('  ') == True"
   ]
  }
 ],
 "metadata": {
  "kernelspec": {
   "display_name": "base",
   "language": "python",
   "name": "python3"
  },
  "language_info": {
   "codemirror_mode": {
    "name": "ipython",
    "version": 3
   },
   "file_extension": ".py",
   "mimetype": "text/x-python",
   "name": "python",
   "nbconvert_exporter": "python",
   "pygments_lexer": "ipython3",
   "version": "3.11.5"
  }
 },
 "nbformat": 4,
 "nbformat_minor": 2
}
