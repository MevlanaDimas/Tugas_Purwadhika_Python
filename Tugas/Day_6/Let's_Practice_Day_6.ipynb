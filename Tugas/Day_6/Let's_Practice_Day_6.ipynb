{
 "cells": [
  {
   "cell_type": "code",
   "execution_count": 7,
   "metadata": {},
   "outputs": [
    {
     "name": "stdout",
     "output_type": "stream",
     "text": [
      "{'gold coin': 42, 'rope': 1}\n"
     ]
    }
   ],
   "source": [
    "def addInventory(inventory, addedItems):\n",
    "    for item in addedItems:\n",
    "        if item in inventory.keys():\n",
    "            inventory[item] += 1\n",
    "        else:\n",
    "            inventory = 1\n",
    "\n",
    "inventory = {\n",
    "    'gold coin' : 42,\n",
    "    'rope' : 1\n",
    "}\n",
    "\n",
    "print(inventory)\n",
    "\n",
    "ans = input('Apakah anda ingin menyimpan loot?: [y/n]').upper()\n",
    "\n",
    "for ans in 'Y':\n",
    "    item = input('Masukkan item dan jumlah yang ingin anda masukkan menggunakan \",\": ')\n",
    "    item = item.split(',')\n",
    "    nama_item, jumlah_item = item[0], int(item[1])\n",
    "    if nama_item == True and jumlah_item == True:\n",
    "        for i in range(len(inventory.items)):\n",
    "            if nama_item != inventory.items():\n",
    "                inventory[nama_item] = jumlah_item\n",
    "        print(inventory)\n",
    "    else:\n",
    "        print(inventory)\n",
    "        break"
   ]
  },
  {
   "cell_type": "markdown",
   "metadata": {},
   "source": []
  }
 ],
 "metadata": {
  "kernelspec": {
   "display_name": "base",
   "language": "python",
   "name": "python3"
  },
  "language_info": {
   "codemirror_mode": {
    "name": "ipython",
    "version": 3
   },
   "file_extension": ".py",
   "mimetype": "text/x-python",
   "name": "python",
   "nbconvert_exporter": "python",
   "pygments_lexer": "ipython3",
   "version": "3.11.5"
  }
 },
 "nbformat": 4,
 "nbformat_minor": 2
}
